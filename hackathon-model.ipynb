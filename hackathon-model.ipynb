{
 "cells": [
  {
   "cell_type": "code",
   "execution_count": 1,
   "id": "b53134c8",
   "metadata": {
    "_cell_guid": "b1076dfc-b9ad-4769-8c92-a6c4dae69d19",
    "_uuid": "8f2839f25d086af736a60e9eeb907d3b93b6e0e5",
    "execution": {
     "iopub.execute_input": "2024-10-18T14:39:31.640562Z",
     "iopub.status.busy": "2024-10-18T14:39:31.640134Z",
     "iopub.status.idle": "2024-10-18T14:39:32.616890Z",
     "shell.execute_reply": "2024-10-18T14:39:32.615899Z"
    },
    "papermill": {
     "duration": 0.985711,
     "end_time": "2024-10-18T14:39:32.619719",
     "exception": false,
     "start_time": "2024-10-18T14:39:31.634008",
     "status": "completed"
    },
    "tags": []
   },
   "outputs": [],
   "source": [
    "# This Python 3 environment comes with many helpful analytics libraries installed\n",
    "# It is defined by the kaggle/python Docker image: https://github.com/kaggle/docker-python\n",
    "# For example, here's several helpful packages to load\n",
    "\n",
    "import numpy as np # linear algebra\n",
    "import pandas as pd # data processing, CSV file I/O (e.g. pd.read_csv)\n",
    "\n",
    "# Input data files are available in the read-only \"../input/\" directory\n",
    "# For example, running this (by clicking run or pressing Shift+Enter) will list all files under the input directory\n",
    "\n",
    "import os\n",
    "for dirname, _, filenames in os.walk('/kaggle/input'):\n",
    "    for filename in filenames:\n",
    "        print(os.path.join(dirname, filename))\n",
    "\n",
    "# You can write up to 20GB to the current directory (/kaggle/working/) that gets preserved as output when you create a version using \"Save & Run All\" \n",
    "# You can also write temporary files to /kaggle/temp/, but they won't be saved outside of the current session"
   ]
  },
  {
   "cell_type": "code",
   "execution_count": 2,
   "id": "0693d8ea",
   "metadata": {
    "_kg_hide-input": false,
    "_kg_hide-output": false,
    "execution": {
     "iopub.execute_input": "2024-10-18T14:39:32.629732Z",
     "iopub.status.busy": "2024-10-18T14:39:32.629164Z",
     "iopub.status.idle": "2024-10-18T14:39:48.501298Z",
     "shell.execute_reply": "2024-10-18T14:39:48.499748Z"
    },
    "papermill": {
     "duration": 15.880308,
     "end_time": "2024-10-18T14:39:48.504428",
     "exception": false,
     "start_time": "2024-10-18T14:39:32.624120",
     "status": "completed"
    },
    "tags": []
   },
   "outputs": [
    {
     "name": "stdout",
     "output_type": "stream",
     "text": [
      "Requirement already satisfied: transformers in /opt/conda/lib/python3.10/site-packages (4.45.1)\r\n",
      "Requirement already satisfied: sentencepiece in /opt/conda/lib/python3.10/site-packages (0.2.0)\r\n",
      "Requirement already satisfied: filelock in /opt/conda/lib/python3.10/site-packages (from transformers) (3.15.1)\r\n",
      "Requirement already satisfied: huggingface-hub<1.0,>=0.23.2 in /opt/conda/lib/python3.10/site-packages (from transformers) (0.25.1)\r\n",
      "Requirement already satisfied: numpy>=1.17 in /opt/conda/lib/python3.10/site-packages (from transformers) (1.26.4)\r\n",
      "Requirement already satisfied: packaging>=20.0 in /opt/conda/lib/python3.10/site-packages (from transformers) (21.3)\r\n",
      "Requirement already satisfied: pyyaml>=5.1 in /opt/conda/lib/python3.10/site-packages (from transformers) (6.0.2)\r\n",
      "Requirement already satisfied: regex!=2019.12.17 in /opt/conda/lib/python3.10/site-packages (from transformers) (2024.5.15)\r\n",
      "Requirement already satisfied: requests in /opt/conda/lib/python3.10/site-packages (from transformers) (2.32.3)\r\n",
      "Requirement already satisfied: safetensors>=0.4.1 in /opt/conda/lib/python3.10/site-packages (from transformers) (0.4.5)\r\n",
      "Requirement already satisfied: tokenizers<0.21,>=0.20 in /opt/conda/lib/python3.10/site-packages (from transformers) (0.20.0)\r\n",
      "Requirement already satisfied: tqdm>=4.27 in /opt/conda/lib/python3.10/site-packages (from transformers) (4.66.4)\r\n",
      "Requirement already satisfied: fsspec>=2023.5.0 in /opt/conda/lib/python3.10/site-packages (from huggingface-hub<1.0,>=0.23.2->transformers) (2024.6.1)\r\n",
      "Requirement already satisfied: typing-extensions>=3.7.4.3 in /opt/conda/lib/python3.10/site-packages (from huggingface-hub<1.0,>=0.23.2->transformers) (4.12.2)\r\n",
      "Requirement already satisfied: pyparsing!=3.0.5,>=2.0.2 in /opt/conda/lib/python3.10/site-packages (from packaging>=20.0->transformers) (3.1.2)\r\n",
      "Requirement already satisfied: charset-normalizer<4,>=2 in /opt/conda/lib/python3.10/site-packages (from requests->transformers) (3.3.2)\r\n",
      "Requirement already satisfied: idna<4,>=2.5 in /opt/conda/lib/python3.10/site-packages (from requests->transformers) (3.7)\r\n",
      "Requirement already satisfied: urllib3<3,>=1.21.1 in /opt/conda/lib/python3.10/site-packages (from requests->transformers) (1.26.18)\r\n",
      "Requirement already satisfied: certifi>=2017.4.17 in /opt/conda/lib/python3.10/site-packages (from requests->transformers) (2024.8.30)\r\n"
     ]
    }
   ],
   "source": [
    "! pip install transformers sentencepiece"
   ]
  },
  {
   "cell_type": "code",
   "execution_count": 3,
   "id": "82a53a8e",
   "metadata": {
    "execution": {
     "iopub.execute_input": "2024-10-18T14:39:48.515824Z",
     "iopub.status.busy": "2024-10-18T14:39:48.515327Z",
     "iopub.status.idle": "2024-10-18T14:39:48.520873Z",
     "shell.execute_reply": "2024-10-18T14:39:48.519631Z"
    },
    "papermill": {
     "duration": 0.014523,
     "end_time": "2024-10-18T14:39:48.523683",
     "exception": false,
     "start_time": "2024-10-18T14:39:48.509160",
     "status": "completed"
    },
    "tags": []
   },
   "outputs": [],
   "source": [
    "# !git lfs install\n",
    "# !git clone https://huggingface.co/cointegrated/LaBSE-en-ru"
   ]
  },
  {
   "cell_type": "code",
   "execution_count": 4,
   "id": "90dfcbbd",
   "metadata": {
    "execution": {
     "iopub.execute_input": "2024-10-18T14:39:48.535055Z",
     "iopub.status.busy": "2024-10-18T14:39:48.534555Z",
     "iopub.status.idle": "2024-10-18T14:39:53.722996Z",
     "shell.execute_reply": "2024-10-18T14:39:53.721747Z"
    },
    "papermill": {
     "duration": 5.197732,
     "end_time": "2024-10-18T14:39:53.726099",
     "exception": false,
     "start_time": "2024-10-18T14:39:48.528367",
     "status": "completed"
    },
    "tags": []
   },
   "outputs": [],
   "source": [
    "import random\n",
    "import numpy as np\n",
    "import torch\n",
    "from torch import nn\n",
    "from collections import OrderedDict\n",
    "from transformers import AutoTokenizer, AutoModel"
   ]
  },
  {
   "cell_type": "code",
   "execution_count": 5,
   "id": "ccf5eaca",
   "metadata": {
    "execution": {
     "iopub.execute_input": "2024-10-18T14:39:53.738957Z",
     "iopub.status.busy": "2024-10-18T14:39:53.737814Z",
     "iopub.status.idle": "2024-10-18T14:39:53.749789Z",
     "shell.execute_reply": "2024-10-18T14:39:53.748401Z"
    },
    "papermill": {
     "duration": 0.021362,
     "end_time": "2024-10-18T14:39:53.752683",
     "exception": false,
     "start_time": "2024-10-18T14:39:53.731321",
     "status": "completed"
    },
    "tags": []
   },
   "outputs": [],
   "source": [
    "def set_seed(seed):\n",
    "    random.seed(seed)\n",
    "    np.random.seed(seed)\n",
    "    torch.manual_seed(seed)\n",
    "    torch.cuda.manual_seed_all(seed)\n",
    "\n",
    "seed = 42\n",
    "set_seed(seed)"
   ]
  },
  {
   "cell_type": "code",
   "execution_count": 6,
   "id": "d8d151bf",
   "metadata": {
    "execution": {
     "iopub.execute_input": "2024-10-18T14:39:53.763334Z",
     "iopub.status.busy": "2024-10-18T14:39:53.762864Z",
     "iopub.status.idle": "2024-10-18T14:39:53.768502Z",
     "shell.execute_reply": "2024-10-18T14:39:53.767330Z"
    },
    "papermill": {
     "duration": 0.013959,
     "end_time": "2024-10-18T14:39:53.771085",
     "exception": false,
     "start_time": "2024-10-18T14:39:53.757126",
     "status": "completed"
    },
    "tags": []
   },
   "outputs": [],
   "source": [
    "device = 'cuda' if torch.cuda.is_available() else 'cpu'"
   ]
  },
  {
   "cell_type": "code",
   "execution_count": 7,
   "id": "04a1b784",
   "metadata": {
    "execution": {
     "iopub.execute_input": "2024-10-18T14:39:53.781849Z",
     "iopub.status.busy": "2024-10-18T14:39:53.781382Z",
     "iopub.status.idle": "2024-10-18T14:39:53.792449Z",
     "shell.execute_reply": "2024-10-18T14:39:53.791323Z"
    },
    "papermill": {
     "duration": 0.019361,
     "end_time": "2024-10-18T14:39:53.794917",
     "exception": false,
     "start_time": "2024-10-18T14:39:53.775556",
     "status": "completed"
    },
    "tags": []
   },
   "outputs": [],
   "source": [
    "class Model(nn.Module):\n",
    "    def __init__(self):\n",
    "        super().__init__()\n",
    "        self.tokenizer = AutoTokenizer.from_pretrained(\"cointegrated/rubert-tiny2\")\n",
    "        self.base = AutoModel.from_pretrained(\"cointegrated/rubert-tiny2\")\n",
    "        n_dim = 312\n",
    "        self.head = nn.Sequential(OrderedDict( [('fc_1' , nn.Linear(n_dim, n_dim*2)),\n",
    "                                                ('relu_1' , nn.GELU()),\n",
    "                                                ('layernorm_1' , nn.LayerNorm(n_dim*2, eps=1e-12)),\n",
    "                                                ('fc_2' , nn.Linear(n_dim*2, n_dim)),\n",
    "                                                ('relu_2' , nn.GELU()),\n",
    "                                                ('dropout', torch.nn.Dropout(.0)),\n",
    "                                                ('layernorm_2' , nn.LayerNorm(n_dim, eps=1e-12)),\n",
    "                                                ('fc_3' , nn.Linear(n_dim, 2, bias=False)),\n",
    "                                                ('softmax', nn.Softmax(dim=-1))\n",
    "                    ]))\n",
    "\n",
    "    def forward(self, text):\n",
    "        token = self.tokenizer(text, padding=True, truncation=True, return_tensors='pt').to(device)\n",
    "        model_output = self.base(**token)\n",
    "        result = self.head(model_output.pooler_output)\n",
    "        return result"
   ]
  },
  {
   "cell_type": "code",
   "execution_count": 8,
   "id": "c5375d6c",
   "metadata": {
    "execution": {
     "iopub.execute_input": "2024-10-18T14:39:53.805673Z",
     "iopub.status.busy": "2024-10-18T14:39:53.805196Z",
     "iopub.status.idle": "2024-10-18T14:39:53.810241Z",
     "shell.execute_reply": "2024-10-18T14:39:53.808888Z"
    },
    "papermill": {
     "duration": 0.013525,
     "end_time": "2024-10-18T14:39:53.812850",
     "exception": false,
     "start_time": "2024-10-18T14:39:53.799325",
     "status": "completed"
    },
    "tags": []
   },
   "outputs": [],
   "source": [
    "# m = Model()\n",
    "# m.forward('asd')"
   ]
  }
 ],
 "metadata": {
  "kaggle": {
   "accelerator": "none",
   "dataSources": [],
   "dockerImageVersionId": 30786,
   "isGpuEnabled": false,
   "isInternetEnabled": true,
   "language": "python",
   "sourceType": "notebook"
  },
  "kernelspec": {
   "display_name": "Python 3",
   "language": "python",
   "name": "python3"
  },
  "language_info": {
   "codemirror_mode": {
    "name": "ipython",
    "version": 3
   },
   "file_extension": ".py",
   "mimetype": "text/x-python",
   "name": "python",
   "nbconvert_exporter": "python",
   "pygments_lexer": "ipython3",
   "version": "3.10.14"
  },
  "papermill": {
   "default_parameters": {},
   "duration": 26.50193,
   "end_time": "2024-10-18T14:39:55.041504",
   "environment_variables": {},
   "exception": null,
   "input_path": "__notebook__.ipynb",
   "output_path": "__notebook__.ipynb",
   "parameters": {},
   "start_time": "2024-10-18T14:39:28.539574",
   "version": "2.6.0"
  }
 },
 "nbformat": 4,
 "nbformat_minor": 5
}
